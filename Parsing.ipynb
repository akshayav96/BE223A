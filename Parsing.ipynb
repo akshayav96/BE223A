{
 "cells": [
  {
   "cell_type": "code",
   "execution_count": null,
   "metadata": {
    "collapsed": true
   },
   "outputs": [],
   "source": [
    "import pandas as pd\n",
    "import numpy as np\n",
    "import scipy as sp\n",
    "import glob as glob\n",
    "\n",
    "def parse_datetime(raw_datetime):\n",
    "    num_samples = raw_datetime.shape[0]\n",
    "    \n",
    "    weekday = pd.Series([])\n",
    "    timeofday = pd.Series([])\n",
    "    datetime_list = pd.Series([])\n",
    "    \n",
    "    for i in range(0,raw_datetime.shape[0]):\n",
    "        datetime_temp = str.split(raw_datetime[i], ' ')\n",
    "\n",
    "        if len(datetime_temp)<2:\n",
    "            weekday[i]=np.nan\n",
    "            timeofday[i]=np.nan\n",
    "            datetime_list[i] = np.nan          \n",
    "            continue\n",
    "\n",
    "        date_temp = str.split(datetime_temp[0],'/')\n",
    "        yy = int(date_temp[2])\n",
    "        mm = int(date_temp[0])\n",
    "        dd = int(date_temp[1])\n",
    "\n",
    "        time_temp = str.split(datetime_temp[1],':')\n",
    "        hh = int(time_temp[0])\n",
    "        mn = int(time_temp[1])\n",
    "        \n",
    "        datetime_obj = datetime(yy,mm,dd,hh,mn)\n",
    "        datetime_list[i] = datetime_temp\n",
    "        weekday[i] = datetime_obj.weekday()\n",
    "        if 8<= datetime_obj.hour and datetime_obj.hour < 12:\n",
    "            timeofday[i] = 'AM'\n",
    "        elif 12 <= datetime_obj.hour and datetime_obj.hour <= 17: \n",
    "            timeofday[i] = 'PM'\n",
    "        else: \n",
    "            timeofday[i] = 'OFF'\n",
    "    return weekday, timeofday, datetime_list\n"
   ]
  },
  {
   "cell_type": "code",
   "execution_count": null,
   "metadata": {},
   "outputs": [],
   "source": [
    "data_raw_fname = 'be223a_dataset.csv'\n",
    "data_raw = pd.read_csv(data_raw_fname)\n",
    "\n",
    "\n",
    "raw_datetime = data_raw['ScheduledDTTM_D']\n",
    "weekday,timeofday,datetimeobj=parse_datetime(data_raw['ScheduledDTTM_D'])\n",
    "\n",
    "features = pd.concat([\n",
    "    data_raw[['Gender','Age','OrgCode','Modality']],\n",
    "    pd.DataFrame({'Weekday':weekday, 'Timeofday':timeofday})\n",
    "                     ],axis=1)\n",
    "\n",
    "features_encoded=pd.get_dummies(features)\n",
    "\n",
    "#print(features)\n",
    "#print(features_encoded)\n",
    "features_encoded.to_csv('features_encoded.csv')\n",
    "\n"
   ]
  },
  {
   "cell_type": "code",
   "execution_count": null,
   "metadata": {
    "collapsed": true
   },
   "outputs": [],
   "source": []
  }
 ],
 "metadata": {
  "kernelspec": {
   "display_name": "Python 3",
   "language": "python",
   "name": "python3"
  },
  "language_info": {
   "codemirror_mode": {
    "name": "ipython",
    "version": 3
   },
   "file_extension": ".py",
   "mimetype": "text/x-python",
   "name": "python",
   "nbconvert_exporter": "python",
   "pygments_lexer": "ipython3",
   "version": "3.6.2"
  }
 },
 "nbformat": 4,
 "nbformat_minor": 2
}
